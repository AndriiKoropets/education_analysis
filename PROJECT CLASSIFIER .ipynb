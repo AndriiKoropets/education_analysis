{
 "cells": [
  {
   "cell_type": "code",
   "execution_count": 112,
   "metadata": {},
   "outputs": [],
   "source": [
    "from pathlib import Path\n",
    "import pandas as pd"
   ]
  },
  {
   "cell_type": "code",
   "execution_count": 113,
   "metadata": {},
   "outputs": [],
   "source": [
    "data_file = Path.cwd() / 'comment_soup.txt'"
   ]
  },
  {
   "cell_type": "code",
   "execution_count": null,
   "metadata": {},
   "outputs": [],
   "source": [
    "temp_data = list()\n",
    "with data_file.open('r') as f:\n",
    "    comments = f.read()\n",
    "    for line in comments.split('\\n\\n'):\n",
    "        line = line.strip()\n",
    "        if line:\n",
    "            line = line.replace('п»ї', ' ')\n",
    "            label, author, text = line.split('|')\n",
    "            temp_data.append(dict(label=label, author=author, text=text))"
   ]
  },
  {
   "cell_type": "code",
   "execution_count": 111,
   "metadata": {},
   "outputs": [],
   "source": [
    "data = pd.DataFrame(temp_data)"
   ]
  },
  {
   "cell_type": "code",
   "execution_count": 92,
   "metadata": {},
   "outputs": [
    {
     "data": {
      "text/html": [
       "<div>\n",
       "<style scoped>\n",
       "    .dataframe tbody tr th:only-of-type {\n",
       "        vertical-align: middle;\n",
       "    }\n",
       "\n",
       "    .dataframe tbody tr th {\n",
       "        vertical-align: top;\n",
       "    }\n",
       "\n",
       "    .dataframe thead th {\n",
       "        text-align: right;\n",
       "    }\n",
       "</style>\n",
       "<table border=\"1\" class=\"dataframe\">\n",
       "  <thead>\n",
       "    <tr style=\"text-align: right;\">\n",
       "      <th></th>\n",
       "      <th>author</th>\n",
       "      <th>label</th>\n",
       "      <th>text</th>\n",
       "    </tr>\n",
       "  </thead>\n",
       "  <tbody>\n",
       "    <tr>\n",
       "      <th>0</th>\n",
       "      <td>Berlino10</td>\n",
       "      <td>trolling</td>\n",
       "      <td>Sie sollten bei der Wahrheit bleiben.\\nBeide P...</td>\n",
       "    </tr>\n",
       "    <tr>\n",
       "      <th>1</th>\n",
       "      <td>Mandalore</td>\n",
       "      <td>trolling</td>\n",
       "      <td>Naja, seit dem Angebot von Hilfsgeldern seiten...</td>\n",
       "    </tr>\n",
       "    <tr>\n",
       "      <th>2</th>\n",
       "      <td>Jo408039</td>\n",
       "      <td>good</td>\n",
       "      <td>Imperialismus? ein dummer und abgedroschener B...</td>\n",
       "    </tr>\n",
       "  </tbody>\n",
       "</table>\n",
       "</div>"
      ],
      "text/plain": [
       "      author     label                                               text\n",
       "0  Berlino10  trolling  Sie sollten bei der Wahrheit bleiben.\\nBeide P...\n",
       "1  Mandalore  trolling  Naja, seit dem Angebot von Hilfsgeldern seiten...\n",
       "2   Jo408039      good  Imperialismus? ein dummer und abgedroschener B..."
      ]
     },
     "execution_count": 92,
     "metadata": {},
     "output_type": "execute_result"
    }
   ],
   "source": [
    "data"
   ]
  },
  {
   "cell_type": "code",
   "execution_count": 93,
   "metadata": {},
   "outputs": [],
   "source": [
    "from sklearn.model_selection import train_test_split\n",
    "from sklearn.pipeline import Pipeline\n",
    "from sklearn.feature_extraction.text import CountVectorizer\n",
    "from sklearn.feature_extraction import DictVectorizer\n",
    "from sklearn.naive_bayes import MultinomialNB\n",
    "from sklearn.base import TransformerMixin, BaseEstimator"
   ]
  },
  {
   "cell_type": "code",
   "execution_count": 94,
   "metadata": {},
   "outputs": [],
   "source": [
    "data_train, data_test, label_train, label_test = train_test_split(data['text'].values, data['label'].values, test_size=0.3)"
   ]
  },
  {
   "cell_type": "code",
   "execution_count": 95,
   "metadata": {},
   "outputs": [],
   "source": [
    "class TextCleaner(TransformerMixin):\n",
    "    \n",
    "    def fit(self, X, y=None):\n",
    "        return self\n",
    "    \n",
    "    def transform(self, texts, y=None):\n",
    "        texts = [text.lower() for text in texts]\n",
    "        return texts"
   ]
  },
  {
   "cell_type": "code",
   "execution_count": 96,
   "metadata": {},
   "outputs": [],
   "source": [
    "features_pipe = Pipeline([\n",
    "    ('cleaning', TextCleaner()),\n",
    "    ('counts', CountVectorizer()),\n",
    "])\n",
    "\n",
    "pipe = Pipeline([\n",
    "    ('features', features_pipe),\n",
    "    ('nb', MultinomialNB()),\n",
    "])"
   ]
  },
  {
   "cell_type": "code",
   "execution_count": 97,
   "metadata": {},
   "outputs": [
    {
     "data": {
      "text/plain": [
       "Pipeline(memory=None,\n",
       "     steps=[('features', Pipeline(memory=None,\n",
       "     steps=[('cleaning', <__main__.TextCleaner object at 0x000002B40FB422E8>), ('counts', CountVectorizer(analyzer='word', binary=False, decode_error='strict',\n",
       "        dtype=<class 'numpy.int64'>, encoding='utf-8', input='content',\n",
       "        lowercase=True, ma...izer=None, vocabulary=None))])), ('nb', MultinomialNB(alpha=1.0, class_prior=None, fit_prior=True))])"
      ]
     },
     "execution_count": 97,
     "metadata": {},
     "output_type": "execute_result"
    }
   ],
   "source": [
    "pipe.fit(data_train, label_train)"
   ]
  },
  {
   "cell_type": "code",
   "execution_count": 106,
   "metadata": {},
   "outputs": [
    {
     "data": {
      "text/plain": [
       "array(['trolling'], \n",
       "      dtype='<U8')"
      ]
     },
     "execution_count": 106,
     "metadata": {},
     "output_type": "execute_result"
    }
   ],
   "source": [
    "pipe.predict(data_test)"
   ]
  },
  {
   "cell_type": "code",
   "execution_count": 107,
   "metadata": {},
   "outputs": [
    {
     "data": {
      "text/plain": [
       "array([ 'Sie sollten bei der Wahrheit bleiben.\\nBeide PrГ¤sidentenwahlen wurden berechtigterweise gewonnen.In der Ukraine bestГ¤tigte das u.a. die OSZE.In RUS die Opposition, Golem, die u.a. einen aufwendigen SMS-Gegencheck mit Гјber 30 Mio Kontroll-Eingaben getГ¤tigt hat, sowie das unabhГ¤ngige Levada-Institut, Гјber 60% gehen ok, vielleicht nicht die 63%Bei den Parlamentswahlen in der Ukraine gibt es tatsГ¤chliche Betrugsnachweise.Bei denen in RUS auch, u.a. unverfГ¤lschbare rein statistische UnmГ¶glichkeiten. Einiges RUS hГ¤tte nach tatsГ¤chlichem WГ¤hlerwillen von 65% auf 35% abstГјrzen mГјssen statt der off. 49%.'], dtype=object)"
      ]
     },
     "execution_count": 107,
     "metadata": {},
     "output_type": "execute_result"
    }
   ],
   "source": [
    "data_test"
   ]
  },
  {
   "cell_type": "code",
   "execution_count": 109,
   "metadata": {},
   "outputs": [],
   "source": [
    "new_comments = [\n",
    "    'Propaganda.Ich glaube eher, dass die westlichen Medien (vor allem Spiegel-Online und amerikanische Medien) eine Anti-Putin Propaganda-Show abziehen. Sachlich ist das schon länger nicht mehr. Und diese ZEIT-Kommentarseite lebt sicherlich von These und Antithese, wie es schon die alten Griechen gemacht haben. Das hat mit \"Sprachrohr\" oder Propaganda nichts zu tun. Es ist einfach nur ein Standpunkt, den ich hier vertrete, weil ich meine, dass dieser Standpunkt bisher nicht genügend diskutiert wurde.'\n",
    "]"
   ]
  },
  {
   "cell_type": "code",
   "execution_count": 115,
   "metadata": {},
   "outputs": [
    {
     "data": {
      "text/plain": [
       "array(['good'], \n",
       "      dtype='<U8')"
      ]
     },
     "execution_count": 115,
     "metadata": {},
     "output_type": "execute_result"
    }
   ],
   "source": [
    "pipe.predict(new_comments)"
   ]
  },
  {
   "cell_type": "code",
   "execution_count": null,
   "metadata": {},
   "outputs": [],
   "source": []
  }
 ],
 "metadata": {
  "kernelspec": {
   "display_name": "Python 3",
   "language": "python",
   "name": "python3"
  },
  "language_info": {
   "codemirror_mode": {
    "name": "ipython",
    "version": 3
   },
   "file_extension": ".py",
   "mimetype": "text/x-python",
   "name": "python",
   "nbconvert_exporter": "python",
   "pygments_lexer": "ipython3",
   "version": "3.7.3"
  }
 },
 "nbformat": 4,
 "nbformat_minor": 2
}
